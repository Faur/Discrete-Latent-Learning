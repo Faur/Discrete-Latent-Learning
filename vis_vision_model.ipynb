{
 "cells": [
  {
   "cell_type": "code",
   "execution_count": null,
   "metadata": {},
   "outputs": [],
   "source": [
    "import numpy as np\n",
    "import tensorflow as tf\n",
    "import gym\n",
    "import matplotlib.pyplot as plt\n",
    "from IPython.display import clear_output\n",
    "\n",
    "import gym_utils\n",
    "from gen_raw_data import generate_action\n",
    "\n",
    "import data_utils\n",
    "from exp_parameters import ExpParam\n",
    "from train_vision import create_or_load_vae"
   ]
  },
  {
   "cell_type": "code",
   "execution_count": null,
   "metadata": {},
   "outputs": [],
   "source": [
    "################## SETTINGS #####################\n",
    "raw_dim = (210, 160, 3)\n",
    "net_dim = (32*4, 32*3, 3)\n",
    "\n",
    "x = 0\n",
    "std = 0\n",
    "\n",
    "exp_param = ExpParam(\n",
    "    lat_type=\"discrete\",\n",
    "    dataset='breakout',\n",
    "    name_prefix='_BLM'+str(x)+'_STD'+str(std),\n",
    "    latent=[[32*128, 2]],\n",
    "    raw_type=tf.uint8,\n",
    "    raw_dim=raw_dim,\n",
    "    net_dim=net_dim,  # very close to org aspect ration\n",
    "    g_std=std,\n",
    "    learning_rate=0.001,\n",
    "    rec_loss_multiplier=x,\n",
    "    max_example=5e6,\n",
    "    batch_size=256,  # for testing\n",
    ")\n",
    "\n",
    "data_set = exp_param.dataset\n",
    "batch_size = exp_param.batch_size\n",
    "\n",
    "### DATA\n",
    "train_iter, test_iter = data_utils.load_data(batch_size, data_set)\n",
    "ball_col = data_utils.ball_col\n",
    "ball_loss_multiplier = exp_param.rec_loss_multiplier\n"
   ]
  },
  {
   "cell_type": "code",
   "execution_count": null,
   "metadata": {},
   "outputs": [],
   "source": [
    "### GENERAL SETUP\n",
    "try:\n",
    "    sess.close()\n",
    "except:\n",
    "    pass\n",
    "\n",
    "model_path = 'saved_model/'\n",
    "model_path += 'breakout_continuous_LAT8_MADE1542627083'\n",
    "\n",
    "### NETWORK\n",
    "sess, network, saver = create_or_load_vae(model_path, exp_param=exp_param)\n",
    "tf.global_variables_initializer().run()\n"
   ]
  },
  {
   "cell_type": "code",
   "execution_count": null,
   "metadata": {},
   "outputs": [],
   "source": [
    "_, _, data = next(test_iter)\n",
    "images = data[0]\n",
    "# masks = data[1] * exp_param.rec_loss_multiplier\n",
    "masks = data[1]  # TODO: Test that this works! (currently 'exp_param.rec_loss_multiplier' is multiplied twice'\n",
    "\n",
    "# TODO: Test should use hard sample\n",
    "[img] = sess.run([network.sum_img], feed_dict={\n",
    "    network.raw_input: images,\n",
    "    network.mask_in: masks,\n",
    "    network.is_training: False\n",
    "})\n"
   ]
  },
  {
   "cell_type": "code",
   "execution_count": null,
   "metadata": {
    "scrolled": false
   },
   "outputs": [],
   "source": [
    "from IPython.display import clear_output\n",
    "\n",
    "# for i in range(images.shape[0]):\n",
    "for i in range(5):\n",
    "    plt.figure(figsize=(8,8))\n",
    "    plt.imshow(img[i])\n",
    "    file_name = 'breakout_render_{:05d}.png'.format(i)\n",
    "    plt.title(file_name)\n",
    "    plt.savefig('./media/images' + file_name)\n",
    "    clear_output(wait=True)\n",
    "    plt.show()\n",
    "    "
   ]
  },
  {
   "cell_type": "code",
   "execution_count": null,
   "metadata": {},
   "outputs": [],
   "source": [
    "## https://stackoverflow.com/questions/41228209/making-gif-from-images-using-imageio-in-python/45258744\n",
    "import os\n",
    "import imageio\n",
    "\n",
    "png_dir = './media/images'\n",
    "images = []\n",
    "for file_name in os.listdir(png_dir):\n",
    "    if file_name.endswith('.png'):\n",
    "        file_path = os.path.join(png_dir, file_name)\n",
    "        images.append(imageio.imread(file_path))\n",
    "        \n",
    "imageio.mimsave('./media/gif/movie.gif', images)\n"
   ]
  },
  {
   "cell_type": "code",
   "execution_count": null,
   "metadata": {},
   "outputs": [],
   "source": []
  }
 ],
 "metadata": {
  "kernelspec": {
   "display_name": "Python 3",
   "language": "python",
   "name": "python3"
  },
  "language_info": {
   "codemirror_mode": {
    "name": "ipython",
    "version": 3
   },
   "file_extension": ".py",
   "mimetype": "text/x-python",
   "name": "python",
   "nbconvert_exporter": "python",
   "pygments_lexer": "ipython3",
   "version": "3.5.5"
  }
 },
 "nbformat": 4,
 "nbformat_minor": 2
}
